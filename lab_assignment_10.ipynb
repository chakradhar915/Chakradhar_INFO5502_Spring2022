{
  "cells": [
    {
      "cell_type": "markdown",
      "metadata": {
        "id": "view-in-github",
        "colab_type": "text"
      },
      "source": [
        "<a href=\"https://colab.research.google.com/github/chakradhar915/Chakradhar_INFO5502_Spring2022/blob/main/lab_assignment_10.ipynb\" target=\"_parent\"><img src=\"https://colab.research.google.com/assets/colab-badge.svg\" alt=\"Open In Colab\"/></a>"
      ]
    },
    {
      "cell_type": "markdown",
      "metadata": {
        "id": "8bdUHVKAv-V9"
      },
      "source": [
        "## The tenth Lab-assignment (04/28/2022, 50 points in total)"
      ]
    },
    {
      "cell_type": "markdown",
      "metadata": {
        "id": "SgtxjAD9v-WI"
      },
      "source": [
        "The purpose of this assignment is to practice normal distribution and annotation quality evaluation."
      ]
    },
    {
      "cell_type": "markdown",
      "metadata": {
        "id": "3o1miyS9v-WL"
      },
      "source": [
        "### Question 1 (25 points) \n",
        "\n",
        "Cohen's kappa coefficient (κ) is a statistic that is used to measure inter-rater reliability (and also intra-rater reliability) for qualitative (categorical) items. It is generally thought to be a more robust measure than simple percent agreement calculation, as κ takes into account the possibility of the agreement occurring by chance. There is controversy surrounding Cohen's kappa due to the difficulty in interpreting indices of agreement. Some researchers have suggested that it is conceptually simpler to evaluate disagreement between items.\n",
        "\n",
        "A more detailed description of Kappa agreement can be found on wikipedia: https://en.wikipedia.org/wiki/Cohen%27s_kappa\n",
        "\n",
        "Here is the dataset we created for a text classification task: https://github.com/unt-iialab/info5502-spring2022/blob/main/datasets/lab10-dataset.csv\n",
        "\n",
        "The last three columns indicate the annotation on the same sentence by three students respectively. Based on this dataset, please calculate the Cohen's kappa and the Fleiss' kappa using their formulars (Python). Please don't use any existing packages for the implementation. "
      ]
    },
    {
      "cell_type": "code",
      "execution_count": null,
      "metadata": {
        "id": "yyd_kpwzv-WO"
      },
      "outputs": [],
      "source": [
        "import pandas as pd\n",
        "import numpy as np\n"
      ]
    },
    {
      "cell_type": "code",
      "source": [
        "lab10_data = pd.read_csv(\"https://raw.githubusercontent.com/unt-iialab/info5502-spring2022/main/datasets/lab10-dataset.csv\")"
      ],
      "metadata": {
        "id": "CRFG5fp_wGyi"
      },
      "execution_count": null,
      "outputs": []
    },
    {
      "cell_type": "code",
      "source": [
        "lab10_data"
      ],
      "metadata": {
        "colab": {
          "base_uri": "https://localhost:8080/",
          "height": 641
        },
        "id": "rOGAdX7XwmpH",
        "outputId": "fc110594-6ec7-4a4c-c79c-4a89573855c9"
      },
      "execution_count": null,
      "outputs": [
        {
          "output_type": "execute_result",
          "data": {
            "text/plain": [
              "                                       Title of Article  \\\n",
              "0     The measurement of ÒinterdisciplinarityÓ and Ò...   \n",
              "1     Innovation adoption: Broadcasting versus virality   \n",
              "2     Discovering underlying sensations of human emo...   \n",
              "3     Discovering underlying sensations of human emo...   \n",
              "4     Discovering underlying sensations of human emo...   \n",
              "...                                                 ...   \n",
              "3393  The impact of personality traits on usersÕ inf...   \n",
              "3394  The impact of personality traits on usersÕ inf...   \n",
              "3395  The impact of personality traits on usersÕ inf...   \n",
              "3396  The impact of personality traits on usersÕ inf...   \n",
              "3397  The impact of personality traits on usersÕ inf...   \n",
              "\n",
              "                                          Contributions  Source  \\\n",
              "0     In this study, we discuss recent advances in t...  JASIST   \n",
              "1     broadcasting and virality have similar diffusi...  JASIST   \n",
              "2     we report the results of our study on sensatio...  JASIST   \n",
              "3     in the second part of the paper, we define nov...  JASIST   \n",
              "4     we design a method to classify texts into ones...  JASIST   \n",
              "...                                                 ...     ...   \n",
              "3393  Personality traits drive information seeking d...     IPM   \n",
              "3394  Eye-movement parameters can predict these patt...     IPM   \n",
              "3395  Prior domain knowledge improves older adultsÕ ...     IPM   \n",
              "3396  Unlike prior results, older adults were outper...     IPM   \n",
              "3397  In open-ended information problems, older adul...     IPM   \n",
              "\n",
              "                                           Annotation1  \\\n",
              "0     Algorithms/ Methods Construction or Optimization   \n",
              "1                                    Theory proposal\\n   \n",
              "2                                    Theory proposal\\n   \n",
              "3                                    Theory proposal\\n   \n",
              "4     Algorithms/ Methods Construction or Optimization   \n",
              "...                                                ...   \n",
              "3393                                 Theory proposal\\n   \n",
              "3394                                 Theory proposal\\n   \n",
              "3395                                 Theory proposal\\n   \n",
              "3396                                 Theory proposal\\n   \n",
              "3397                                 Theory proposal\\n   \n",
              "\n",
              "                                           Annotation2  \\\n",
              "0     Algorithms/ Methods Construction or Optimization   \n",
              "1                                    Theory proposal\\n   \n",
              "2     Algorithms/ Methods Construction or Optimization   \n",
              "3                                    Theory proposal\\n   \n",
              "4                   Model Construction or Optimization   \n",
              "...                                                ...   \n",
              "3393                                 Theory proposal\\n   \n",
              "3394                                 Theory proposal\\n   \n",
              "3395                                 Theory proposal\\n   \n",
              "3396                                 Theory proposal\\n   \n",
              "3397                                 Theory proposal\\n   \n",
              "\n",
              "                                           Annotation3    Year  \n",
              "0     Algorithms/ Methods Construction or Optimization     NaN  \n",
              "1                                    Theory proposal\\n     NaN  \n",
              "2                                    Theory proposal\\n     NaN  \n",
              "3                                    Theory proposal\\n     NaN  \n",
              "4     Algorithms/ Methods Construction or Optimization     NaN  \n",
              "...                                                ...     ...  \n",
              "3393                                 Theory proposal\\n  2017.0  \n",
              "3394                                 Theory proposal\\n  2017.0  \n",
              "3395                                 Theory proposal\\n  2017.0  \n",
              "3396                                 Theory proposal\\n  2017.0  \n",
              "3397                                 Theory proposal\\n  2017.0  \n",
              "\n",
              "[3398 rows x 7 columns]"
            ],
            "text/html": [
              "\n",
              "  <div id=\"df-503b2259-6517-4640-b855-a45a9ebef694\">\n",
              "    <div class=\"colab-df-container\">\n",
              "      <div>\n",
              "<style scoped>\n",
              "    .dataframe tbody tr th:only-of-type {\n",
              "        vertical-align: middle;\n",
              "    }\n",
              "\n",
              "    .dataframe tbody tr th {\n",
              "        vertical-align: top;\n",
              "    }\n",
              "\n",
              "    .dataframe thead th {\n",
              "        text-align: right;\n",
              "    }\n",
              "</style>\n",
              "<table border=\"1\" class=\"dataframe\">\n",
              "  <thead>\n",
              "    <tr style=\"text-align: right;\">\n",
              "      <th></th>\n",
              "      <th>Title of Article</th>\n",
              "      <th>Contributions</th>\n",
              "      <th>Source</th>\n",
              "      <th>Annotation1</th>\n",
              "      <th>Annotation2</th>\n",
              "      <th>Annotation3</th>\n",
              "      <th>Year</th>\n",
              "    </tr>\n",
              "  </thead>\n",
              "  <tbody>\n",
              "    <tr>\n",
              "      <th>0</th>\n",
              "      <td>The measurement of ÒinterdisciplinarityÓ and Ò...</td>\n",
              "      <td>In this study, we discuss recent advances in t...</td>\n",
              "      <td>JASIST</td>\n",
              "      <td>Algorithms/ Methods Construction or Optimization</td>\n",
              "      <td>Algorithms/ Methods Construction or Optimization</td>\n",
              "      <td>Algorithms/ Methods Construction or Optimization</td>\n",
              "      <td>NaN</td>\n",
              "    </tr>\n",
              "    <tr>\n",
              "      <th>1</th>\n",
              "      <td>Innovation adoption: Broadcasting versus virality</td>\n",
              "      <td>broadcasting and virality have similar diffusi...</td>\n",
              "      <td>JASIST</td>\n",
              "      <td>Theory proposal\\n</td>\n",
              "      <td>Theory proposal\\n</td>\n",
              "      <td>Theory proposal\\n</td>\n",
              "      <td>NaN</td>\n",
              "    </tr>\n",
              "    <tr>\n",
              "      <th>2</th>\n",
              "      <td>Discovering underlying sensations of human emo...</td>\n",
              "      <td>we report the results of our study on sensatio...</td>\n",
              "      <td>JASIST</td>\n",
              "      <td>Theory proposal\\n</td>\n",
              "      <td>Algorithms/ Methods Construction or Optimization</td>\n",
              "      <td>Theory proposal\\n</td>\n",
              "      <td>NaN</td>\n",
              "    </tr>\n",
              "    <tr>\n",
              "      <th>3</th>\n",
              "      <td>Discovering underlying sensations of human emo...</td>\n",
              "      <td>in the second part of the paper, we define nov...</td>\n",
              "      <td>JASIST</td>\n",
              "      <td>Theory proposal\\n</td>\n",
              "      <td>Theory proposal\\n</td>\n",
              "      <td>Theory proposal\\n</td>\n",
              "      <td>NaN</td>\n",
              "    </tr>\n",
              "    <tr>\n",
              "      <th>4</th>\n",
              "      <td>Discovering underlying sensations of human emo...</td>\n",
              "      <td>we design a method to classify texts into ones...</td>\n",
              "      <td>JASIST</td>\n",
              "      <td>Algorithms/ Methods Construction or Optimization</td>\n",
              "      <td>Model Construction or Optimization</td>\n",
              "      <td>Algorithms/ Methods Construction or Optimization</td>\n",
              "      <td>NaN</td>\n",
              "    </tr>\n",
              "    <tr>\n",
              "      <th>...</th>\n",
              "      <td>...</td>\n",
              "      <td>...</td>\n",
              "      <td>...</td>\n",
              "      <td>...</td>\n",
              "      <td>...</td>\n",
              "      <td>...</td>\n",
              "      <td>...</td>\n",
              "    </tr>\n",
              "    <tr>\n",
              "      <th>3393</th>\n",
              "      <td>The impact of personality traits on usersÕ inf...</td>\n",
              "      <td>Personality traits drive information seeking d...</td>\n",
              "      <td>IPM</td>\n",
              "      <td>Theory proposal\\n</td>\n",
              "      <td>Theory proposal\\n</td>\n",
              "      <td>Theory proposal\\n</td>\n",
              "      <td>2017.0</td>\n",
              "    </tr>\n",
              "    <tr>\n",
              "      <th>3394</th>\n",
              "      <td>The impact of personality traits on usersÕ inf...</td>\n",
              "      <td>Eye-movement parameters can predict these patt...</td>\n",
              "      <td>IPM</td>\n",
              "      <td>Theory proposal\\n</td>\n",
              "      <td>Theory proposal\\n</td>\n",
              "      <td>Theory proposal\\n</td>\n",
              "      <td>2017.0</td>\n",
              "    </tr>\n",
              "    <tr>\n",
              "      <th>3395</th>\n",
              "      <td>The impact of personality traits on usersÕ inf...</td>\n",
              "      <td>Prior domain knowledge improves older adultsÕ ...</td>\n",
              "      <td>IPM</td>\n",
              "      <td>Theory proposal\\n</td>\n",
              "      <td>Theory proposal\\n</td>\n",
              "      <td>Theory proposal\\n</td>\n",
              "      <td>2017.0</td>\n",
              "    </tr>\n",
              "    <tr>\n",
              "      <th>3396</th>\n",
              "      <td>The impact of personality traits on usersÕ inf...</td>\n",
              "      <td>Unlike prior results, older adults were outper...</td>\n",
              "      <td>IPM</td>\n",
              "      <td>Theory proposal\\n</td>\n",
              "      <td>Theory proposal\\n</td>\n",
              "      <td>Theory proposal\\n</td>\n",
              "      <td>2017.0</td>\n",
              "    </tr>\n",
              "    <tr>\n",
              "      <th>3397</th>\n",
              "      <td>The impact of personality traits on usersÕ inf...</td>\n",
              "      <td>In open-ended information problems, older adul...</td>\n",
              "      <td>IPM</td>\n",
              "      <td>Theory proposal\\n</td>\n",
              "      <td>Theory proposal\\n</td>\n",
              "      <td>Theory proposal\\n</td>\n",
              "      <td>2017.0</td>\n",
              "    </tr>\n",
              "  </tbody>\n",
              "</table>\n",
              "<p>3398 rows × 7 columns</p>\n",
              "</div>\n",
              "      <button class=\"colab-df-convert\" onclick=\"convertToInteractive('df-503b2259-6517-4640-b855-a45a9ebef694')\"\n",
              "              title=\"Convert this dataframe to an interactive table.\"\n",
              "              style=\"display:none;\">\n",
              "        \n",
              "  <svg xmlns=\"http://www.w3.org/2000/svg\" height=\"24px\"viewBox=\"0 0 24 24\"\n",
              "       width=\"24px\">\n",
              "    <path d=\"M0 0h24v24H0V0z\" fill=\"none\"/>\n",
              "    <path d=\"M18.56 5.44l.94 2.06.94-2.06 2.06-.94-2.06-.94-.94-2.06-.94 2.06-2.06.94zm-11 1L8.5 8.5l.94-2.06 2.06-.94-2.06-.94L8.5 2.5l-.94 2.06-2.06.94zm10 10l.94 2.06.94-2.06 2.06-.94-2.06-.94-.94-2.06-.94 2.06-2.06.94z\"/><path d=\"M17.41 7.96l-1.37-1.37c-.4-.4-.92-.59-1.43-.59-.52 0-1.04.2-1.43.59L10.3 9.45l-7.72 7.72c-.78.78-.78 2.05 0 2.83L4 21.41c.39.39.9.59 1.41.59.51 0 1.02-.2 1.41-.59l7.78-7.78 2.81-2.81c.8-.78.8-2.07 0-2.86zM5.41 20L4 18.59l7.72-7.72 1.47 1.35L5.41 20z\"/>\n",
              "  </svg>\n",
              "      </button>\n",
              "      \n",
              "  <style>\n",
              "    .colab-df-container {\n",
              "      display:flex;\n",
              "      flex-wrap:wrap;\n",
              "      gap: 12px;\n",
              "    }\n",
              "\n",
              "    .colab-df-convert {\n",
              "      background-color: #E8F0FE;\n",
              "      border: none;\n",
              "      border-radius: 50%;\n",
              "      cursor: pointer;\n",
              "      display: none;\n",
              "      fill: #1967D2;\n",
              "      height: 32px;\n",
              "      padding: 0 0 0 0;\n",
              "      width: 32px;\n",
              "    }\n",
              "\n",
              "    .colab-df-convert:hover {\n",
              "      background-color: #E2EBFA;\n",
              "      box-shadow: 0px 1px 2px rgba(60, 64, 67, 0.3), 0px 1px 3px 1px rgba(60, 64, 67, 0.15);\n",
              "      fill: #174EA6;\n",
              "    }\n",
              "\n",
              "    [theme=dark] .colab-df-convert {\n",
              "      background-color: #3B4455;\n",
              "      fill: #D2E3FC;\n",
              "    }\n",
              "\n",
              "    [theme=dark] .colab-df-convert:hover {\n",
              "      background-color: #434B5C;\n",
              "      box-shadow: 0px 1px 3px 1px rgba(0, 0, 0, 0.15);\n",
              "      filter: drop-shadow(0px 1px 2px rgba(0, 0, 0, 0.3));\n",
              "      fill: #FFFFFF;\n",
              "    }\n",
              "  </style>\n",
              "\n",
              "      <script>\n",
              "        const buttonEl =\n",
              "          document.querySelector('#df-503b2259-6517-4640-b855-a45a9ebef694 button.colab-df-convert');\n",
              "        buttonEl.style.display =\n",
              "          google.colab.kernel.accessAllowed ? 'block' : 'none';\n",
              "\n",
              "        async function convertToInteractive(key) {\n",
              "          const element = document.querySelector('#df-503b2259-6517-4640-b855-a45a9ebef694');\n",
              "          const dataTable =\n",
              "            await google.colab.kernel.invokeFunction('convertToInteractive',\n",
              "                                                     [key], {});\n",
              "          if (!dataTable) return;\n",
              "\n",
              "          const docLinkHtml = 'Like what you see? Visit the ' +\n",
              "            '<a target=\"_blank\" href=https://colab.research.google.com/notebooks/data_table.ipynb>data table notebook</a>'\n",
              "            + ' to learn more about interactive tables.';\n",
              "          element.innerHTML = '';\n",
              "          dataTable['output_type'] = 'display_data';\n",
              "          await google.colab.output.renderOutput(dataTable, element);\n",
              "          const docLink = document.createElement('div');\n",
              "          docLink.innerHTML = docLinkHtml;\n",
              "          element.appendChild(docLink);\n",
              "        }\n",
              "      </script>\n",
              "    </div>\n",
              "  </div>\n",
              "  "
            ]
          },
          "metadata": {},
          "execution_count": 25
        }
      ]
    },
    {
      "cell_type": "code",
      "source": [
        "from sklearn.preprocessing import LabelEncoder\n",
        "\n",
        "# label encode the categorical columns data\n",
        "label = LabelEncoder()\n",
        "\n",
        "# label encode\n",
        "label.fit(lab10_data['Annotation1'])\n",
        "\n",
        "# fitting the Annotation 1 data and transforming the annotation 2 & annotation 3\n",
        "lab10_data['num_Annotation1'] = label.transform(lab10_data['Annotation1'])\n",
        "lab10_data['num_Annotation2'] = label.transform(lab10_data['Annotation2'])\n",
        "lab10_data['num_Annotation3'] = label.transform(lab10_data['Annotation3'])\n",
        "\n",
        "lab10_data"
      ],
      "metadata": {
        "colab": {
          "base_uri": "https://localhost:8080/",
          "height": 728
        },
        "id": "4TS-SY0Zw79F",
        "outputId": "cd37bfc0-0109-4e0c-a902-b305b659e3b8"
      },
      "execution_count": null,
      "outputs": [
        {
          "output_type": "execute_result",
          "data": {
            "text/plain": [
              "                                       Title of Article  \\\n",
              "0     The measurement of ÒinterdisciplinarityÓ and Ò...   \n",
              "1     Innovation adoption: Broadcasting versus virality   \n",
              "2     Discovering underlying sensations of human emo...   \n",
              "3     Discovering underlying sensations of human emo...   \n",
              "4     Discovering underlying sensations of human emo...   \n",
              "...                                                 ...   \n",
              "3393  The impact of personality traits on usersÕ inf...   \n",
              "3394  The impact of personality traits on usersÕ inf...   \n",
              "3395  The impact of personality traits on usersÕ inf...   \n",
              "3396  The impact of personality traits on usersÕ inf...   \n",
              "3397  The impact of personality traits on usersÕ inf...   \n",
              "\n",
              "                                          Contributions  Source  \\\n",
              "0     In this study, we discuss recent advances in t...  JASIST   \n",
              "1     broadcasting and virality have similar diffusi...  JASIST   \n",
              "2     we report the results of our study on sensatio...  JASIST   \n",
              "3     in the second part of the paper, we define nov...  JASIST   \n",
              "4     we design a method to classify texts into ones...  JASIST   \n",
              "...                                                 ...     ...   \n",
              "3393  Personality traits drive information seeking d...     IPM   \n",
              "3394  Eye-movement parameters can predict these patt...     IPM   \n",
              "3395  Prior domain knowledge improves older adultsÕ ...     IPM   \n",
              "3396  Unlike prior results, older adults were outper...     IPM   \n",
              "3397  In open-ended information problems, older adul...     IPM   \n",
              "\n",
              "                                           Annotation1  \\\n",
              "0     Algorithms/ Methods Construction or Optimization   \n",
              "1                                    Theory proposal\\n   \n",
              "2                                    Theory proposal\\n   \n",
              "3                                    Theory proposal\\n   \n",
              "4     Algorithms/ Methods Construction or Optimization   \n",
              "...                                                ...   \n",
              "3393                                 Theory proposal\\n   \n",
              "3394                                 Theory proposal\\n   \n",
              "3395                                 Theory proposal\\n   \n",
              "3396                                 Theory proposal\\n   \n",
              "3397                                 Theory proposal\\n   \n",
              "\n",
              "                                           Annotation2  \\\n",
              "0     Algorithms/ Methods Construction or Optimization   \n",
              "1                                    Theory proposal\\n   \n",
              "2     Algorithms/ Methods Construction or Optimization   \n",
              "3                                    Theory proposal\\n   \n",
              "4                   Model Construction or Optimization   \n",
              "...                                                ...   \n",
              "3393                                 Theory proposal\\n   \n",
              "3394                                 Theory proposal\\n   \n",
              "3395                                 Theory proposal\\n   \n",
              "3396                                 Theory proposal\\n   \n",
              "3397                                 Theory proposal\\n   \n",
              "\n",
              "                                           Annotation3    Year  \\\n",
              "0     Algorithms/ Methods Construction or Optimization     NaN   \n",
              "1                                    Theory proposal\\n     NaN   \n",
              "2                                    Theory proposal\\n     NaN   \n",
              "3                                    Theory proposal\\n     NaN   \n",
              "4     Algorithms/ Methods Construction or Optimization     NaN   \n",
              "...                                                ...     ...   \n",
              "3393                                 Theory proposal\\n  2017.0   \n",
              "3394                                 Theory proposal\\n  2017.0   \n",
              "3395                                 Theory proposal\\n  2017.0   \n",
              "3396                                 Theory proposal\\n  2017.0   \n",
              "3397                                 Theory proposal\\n  2017.0   \n",
              "\n",
              "      num_Annotation1  num_Annotation2  num_Annotation3  \n",
              "0                   1                1                1  \n",
              "1                   7                7                7  \n",
              "2                   7                1                7  \n",
              "3                   7                7                7  \n",
              "4                   1                4                1  \n",
              "...               ...              ...              ...  \n",
              "3393                7                7                7  \n",
              "3394                7                7                7  \n",
              "3395                7                7                7  \n",
              "3396                7                7                7  \n",
              "3397                7                7                7  \n",
              "\n",
              "[3398 rows x 10 columns]"
            ],
            "text/html": [
              "\n",
              "  <div id=\"df-e9c75645-c48f-4670-b0db-bb3aa86094a0\">\n",
              "    <div class=\"colab-df-container\">\n",
              "      <div>\n",
              "<style scoped>\n",
              "    .dataframe tbody tr th:only-of-type {\n",
              "        vertical-align: middle;\n",
              "    }\n",
              "\n",
              "    .dataframe tbody tr th {\n",
              "        vertical-align: top;\n",
              "    }\n",
              "\n",
              "    .dataframe thead th {\n",
              "        text-align: right;\n",
              "    }\n",
              "</style>\n",
              "<table border=\"1\" class=\"dataframe\">\n",
              "  <thead>\n",
              "    <tr style=\"text-align: right;\">\n",
              "      <th></th>\n",
              "      <th>Title of Article</th>\n",
              "      <th>Contributions</th>\n",
              "      <th>Source</th>\n",
              "      <th>Annotation1</th>\n",
              "      <th>Annotation2</th>\n",
              "      <th>Annotation3</th>\n",
              "      <th>Year</th>\n",
              "      <th>num_Annotation1</th>\n",
              "      <th>num_Annotation2</th>\n",
              "      <th>num_Annotation3</th>\n",
              "    </tr>\n",
              "  </thead>\n",
              "  <tbody>\n",
              "    <tr>\n",
              "      <th>0</th>\n",
              "      <td>The measurement of ÒinterdisciplinarityÓ and Ò...</td>\n",
              "      <td>In this study, we discuss recent advances in t...</td>\n",
              "      <td>JASIST</td>\n",
              "      <td>Algorithms/ Methods Construction or Optimization</td>\n",
              "      <td>Algorithms/ Methods Construction or Optimization</td>\n",
              "      <td>Algorithms/ Methods Construction or Optimization</td>\n",
              "      <td>NaN</td>\n",
              "      <td>1</td>\n",
              "      <td>1</td>\n",
              "      <td>1</td>\n",
              "    </tr>\n",
              "    <tr>\n",
              "      <th>1</th>\n",
              "      <td>Innovation adoption: Broadcasting versus virality</td>\n",
              "      <td>broadcasting and virality have similar diffusi...</td>\n",
              "      <td>JASIST</td>\n",
              "      <td>Theory proposal\\n</td>\n",
              "      <td>Theory proposal\\n</td>\n",
              "      <td>Theory proposal\\n</td>\n",
              "      <td>NaN</td>\n",
              "      <td>7</td>\n",
              "      <td>7</td>\n",
              "      <td>7</td>\n",
              "    </tr>\n",
              "    <tr>\n",
              "      <th>2</th>\n",
              "      <td>Discovering underlying sensations of human emo...</td>\n",
              "      <td>we report the results of our study on sensatio...</td>\n",
              "      <td>JASIST</td>\n",
              "      <td>Theory proposal\\n</td>\n",
              "      <td>Algorithms/ Methods Construction or Optimization</td>\n",
              "      <td>Theory proposal\\n</td>\n",
              "      <td>NaN</td>\n",
              "      <td>7</td>\n",
              "      <td>1</td>\n",
              "      <td>7</td>\n",
              "    </tr>\n",
              "    <tr>\n",
              "      <th>3</th>\n",
              "      <td>Discovering underlying sensations of human emo...</td>\n",
              "      <td>in the second part of the paper, we define nov...</td>\n",
              "      <td>JASIST</td>\n",
              "      <td>Theory proposal\\n</td>\n",
              "      <td>Theory proposal\\n</td>\n",
              "      <td>Theory proposal\\n</td>\n",
              "      <td>NaN</td>\n",
              "      <td>7</td>\n",
              "      <td>7</td>\n",
              "      <td>7</td>\n",
              "    </tr>\n",
              "    <tr>\n",
              "      <th>4</th>\n",
              "      <td>Discovering underlying sensations of human emo...</td>\n",
              "      <td>we design a method to classify texts into ones...</td>\n",
              "      <td>JASIST</td>\n",
              "      <td>Algorithms/ Methods Construction or Optimization</td>\n",
              "      <td>Model Construction or Optimization</td>\n",
              "      <td>Algorithms/ Methods Construction or Optimization</td>\n",
              "      <td>NaN</td>\n",
              "      <td>1</td>\n",
              "      <td>4</td>\n",
              "      <td>1</td>\n",
              "    </tr>\n",
              "    <tr>\n",
              "      <th>...</th>\n",
              "      <td>...</td>\n",
              "      <td>...</td>\n",
              "      <td>...</td>\n",
              "      <td>...</td>\n",
              "      <td>...</td>\n",
              "      <td>...</td>\n",
              "      <td>...</td>\n",
              "      <td>...</td>\n",
              "      <td>...</td>\n",
              "      <td>...</td>\n",
              "    </tr>\n",
              "    <tr>\n",
              "      <th>3393</th>\n",
              "      <td>The impact of personality traits on usersÕ inf...</td>\n",
              "      <td>Personality traits drive information seeking d...</td>\n",
              "      <td>IPM</td>\n",
              "      <td>Theory proposal\\n</td>\n",
              "      <td>Theory proposal\\n</td>\n",
              "      <td>Theory proposal\\n</td>\n",
              "      <td>2017.0</td>\n",
              "      <td>7</td>\n",
              "      <td>7</td>\n",
              "      <td>7</td>\n",
              "    </tr>\n",
              "    <tr>\n",
              "      <th>3394</th>\n",
              "      <td>The impact of personality traits on usersÕ inf...</td>\n",
              "      <td>Eye-movement parameters can predict these patt...</td>\n",
              "      <td>IPM</td>\n",
              "      <td>Theory proposal\\n</td>\n",
              "      <td>Theory proposal\\n</td>\n",
              "      <td>Theory proposal\\n</td>\n",
              "      <td>2017.0</td>\n",
              "      <td>7</td>\n",
              "      <td>7</td>\n",
              "      <td>7</td>\n",
              "    </tr>\n",
              "    <tr>\n",
              "      <th>3395</th>\n",
              "      <td>The impact of personality traits on usersÕ inf...</td>\n",
              "      <td>Prior domain knowledge improves older adultsÕ ...</td>\n",
              "      <td>IPM</td>\n",
              "      <td>Theory proposal\\n</td>\n",
              "      <td>Theory proposal\\n</td>\n",
              "      <td>Theory proposal\\n</td>\n",
              "      <td>2017.0</td>\n",
              "      <td>7</td>\n",
              "      <td>7</td>\n",
              "      <td>7</td>\n",
              "    </tr>\n",
              "    <tr>\n",
              "      <th>3396</th>\n",
              "      <td>The impact of personality traits on usersÕ inf...</td>\n",
              "      <td>Unlike prior results, older adults were outper...</td>\n",
              "      <td>IPM</td>\n",
              "      <td>Theory proposal\\n</td>\n",
              "      <td>Theory proposal\\n</td>\n",
              "      <td>Theory proposal\\n</td>\n",
              "      <td>2017.0</td>\n",
              "      <td>7</td>\n",
              "      <td>7</td>\n",
              "      <td>7</td>\n",
              "    </tr>\n",
              "    <tr>\n",
              "      <th>3397</th>\n",
              "      <td>The impact of personality traits on usersÕ inf...</td>\n",
              "      <td>In open-ended information problems, older adul...</td>\n",
              "      <td>IPM</td>\n",
              "      <td>Theory proposal\\n</td>\n",
              "      <td>Theory proposal\\n</td>\n",
              "      <td>Theory proposal\\n</td>\n",
              "      <td>2017.0</td>\n",
              "      <td>7</td>\n",
              "      <td>7</td>\n",
              "      <td>7</td>\n",
              "    </tr>\n",
              "  </tbody>\n",
              "</table>\n",
              "<p>3398 rows × 10 columns</p>\n",
              "</div>\n",
              "      <button class=\"colab-df-convert\" onclick=\"convertToInteractive('df-e9c75645-c48f-4670-b0db-bb3aa86094a0')\"\n",
              "              title=\"Convert this dataframe to an interactive table.\"\n",
              "              style=\"display:none;\">\n",
              "        \n",
              "  <svg xmlns=\"http://www.w3.org/2000/svg\" height=\"24px\"viewBox=\"0 0 24 24\"\n",
              "       width=\"24px\">\n",
              "    <path d=\"M0 0h24v24H0V0z\" fill=\"none\"/>\n",
              "    <path d=\"M18.56 5.44l.94 2.06.94-2.06 2.06-.94-2.06-.94-.94-2.06-.94 2.06-2.06.94zm-11 1L8.5 8.5l.94-2.06 2.06-.94-2.06-.94L8.5 2.5l-.94 2.06-2.06.94zm10 10l.94 2.06.94-2.06 2.06-.94-2.06-.94-.94-2.06-.94 2.06-2.06.94z\"/><path d=\"M17.41 7.96l-1.37-1.37c-.4-.4-.92-.59-1.43-.59-.52 0-1.04.2-1.43.59L10.3 9.45l-7.72 7.72c-.78.78-.78 2.05 0 2.83L4 21.41c.39.39.9.59 1.41.59.51 0 1.02-.2 1.41-.59l7.78-7.78 2.81-2.81c.8-.78.8-2.07 0-2.86zM5.41 20L4 18.59l7.72-7.72 1.47 1.35L5.41 20z\"/>\n",
              "  </svg>\n",
              "      </button>\n",
              "      \n",
              "  <style>\n",
              "    .colab-df-container {\n",
              "      display:flex;\n",
              "      flex-wrap:wrap;\n",
              "      gap: 12px;\n",
              "    }\n",
              "\n",
              "    .colab-df-convert {\n",
              "      background-color: #E8F0FE;\n",
              "      border: none;\n",
              "      border-radius: 50%;\n",
              "      cursor: pointer;\n",
              "      display: none;\n",
              "      fill: #1967D2;\n",
              "      height: 32px;\n",
              "      padding: 0 0 0 0;\n",
              "      width: 32px;\n",
              "    }\n",
              "\n",
              "    .colab-df-convert:hover {\n",
              "      background-color: #E2EBFA;\n",
              "      box-shadow: 0px 1px 2px rgba(60, 64, 67, 0.3), 0px 1px 3px 1px rgba(60, 64, 67, 0.15);\n",
              "      fill: #174EA6;\n",
              "    }\n",
              "\n",
              "    [theme=dark] .colab-df-convert {\n",
              "      background-color: #3B4455;\n",
              "      fill: #D2E3FC;\n",
              "    }\n",
              "\n",
              "    [theme=dark] .colab-df-convert:hover {\n",
              "      background-color: #434B5C;\n",
              "      box-shadow: 0px 1px 3px 1px rgba(0, 0, 0, 0.15);\n",
              "      filter: drop-shadow(0px 1px 2px rgba(0, 0, 0, 0.3));\n",
              "      fill: #FFFFFF;\n",
              "    }\n",
              "  </style>\n",
              "\n",
              "      <script>\n",
              "        const buttonEl =\n",
              "          document.querySelector('#df-e9c75645-c48f-4670-b0db-bb3aa86094a0 button.colab-df-convert');\n",
              "        buttonEl.style.display =\n",
              "          google.colab.kernel.accessAllowed ? 'block' : 'none';\n",
              "\n",
              "        async function convertToInteractive(key) {\n",
              "          const element = document.querySelector('#df-e9c75645-c48f-4670-b0db-bb3aa86094a0');\n",
              "          const dataTable =\n",
              "            await google.colab.kernel.invokeFunction('convertToInteractive',\n",
              "                                                     [key], {});\n",
              "          if (!dataTable) return;\n",
              "\n",
              "          const docLinkHtml = 'Like what you see? Visit the ' +\n",
              "            '<a target=\"_blank\" href=https://colab.research.google.com/notebooks/data_table.ipynb>data table notebook</a>'\n",
              "            + ' to learn more about interactive tables.';\n",
              "          element.innerHTML = '';\n",
              "          dataTable['output_type'] = 'display_data';\n",
              "          await google.colab.output.renderOutput(dataTable, element);\n",
              "          const docLink = document.createElement('div');\n",
              "          docLink.innerHTML = docLinkHtml;\n",
              "          element.appendChild(docLink);\n",
              "        }\n",
              "      </script>\n",
              "    </div>\n",
              "  </div>\n",
              "  "
            ]
          },
          "metadata": {},
          "execution_count": 26
        }
      ]
    },
    {
      "cell_type": "code",
      "source": [
        "from sklearn.metrics import cohen_kappa_score\n",
        "\n",
        "score_num1 = cohen_kappa_score(list(lab10_data['num_Annotation1'].values), list(lab10_data['num_Annotation2'].values))\n",
        "score_num2 = cohen_kappa_score(list(lab10_data['num_Annotation2'].values), list(lab10_data['num_Annotation3'].values))\n",
        "score_num3 = cohen_kappa_score(list(lab10_data['num_Annotation1'].values), list(lab10_data['num_Annotation3'].values))\n",
        "print(\"      score1             score2              score3\")\n",
        "print(score_num1,score_num2,score_num3)"
      ],
      "metadata": {
        "colab": {
          "base_uri": "https://localhost:8080/"
        },
        "id": "jqnXeIHryS1W",
        "outputId": "9ceaab50-7c4c-4229-8e31-394ddc265458"
      },
      "execution_count": null,
      "outputs": [
        {
          "output_type": "stream",
          "name": "stdout",
          "text": [
            "      score1             score2              score3\n",
            "0.42830184648552283 0.5201725501326195 0.6699506558982792\n"
          ]
        }
      ]
    },
    {
      "cell_type": "code",
      "source": [
        "average_score = (score_num1 + score_num2 + score_num3)/3\n",
        "print(\"average score is:\", round(average_score, 2))\n",
        "\n",
        "\n",
        "if average_score < 0.0:\n",
        "    print(\"Less than chance agreement\")\n",
        "\n",
        "elif ((average_score >= 0.01) & (average_score <= 0.20)):\n",
        "    print(\"Slight agreement\")\n",
        "\n",
        "elif ((average_score >= 0.21) and (average_score <= 0.40)):\n",
        "    print(\"Fair agreement\")\n",
        "\n",
        "elif ((average_score >= 0.41) and (average_score <= 0.60)):\n",
        "    print(\"Moderate agreement\")\n",
        "\n",
        "elif ((average_score >= 0.61) and (average_score <= 0.80)):\n",
        "    print(\"Substantial agreement\")\n",
        "\n",
        "elif ((average_score >= 0.81) and (average_score <= 0.99)):\n",
        "    print(\"Almost perfect agreement\")"
      ],
      "metadata": {
        "colab": {
          "base_uri": "https://localhost:8080/"
        },
        "id": "eGHfvlPkyuC6",
        "outputId": "3576adb7-5d38-4628-f1f2-cab27ee32284"
      },
      "execution_count": null,
      "outputs": [
        {
          "output_type": "stream",
          "name": "stdout",
          "text": [
            "average score is: 0.54\n",
            "Moderate agreement\n"
          ]
        }
      ]
    },
    {
      "cell_type": "markdown",
      "metadata": {
        "id": "erbhEjpEv-WR"
      },
      "source": [
        "### Question 2 (25 points) \n",
        "\n",
        "Normal distribution is the default probability for many real world scenarios. It represents a symmetric distribution where most of the observations cluster around the central peak called as mean of the distribution. A normal distribution can be thought of as a bell curve or Gaussian Distribution which typically has two parameters: mean and standard deviation (SD). The parameter used to measure the variability of observations around the mean is called as standard deviation. The probabilities for values occurring near mean are higher than the values far away from the mean. The parameters of the normal distribution plot defining the shape and the probabilities are mean and standard deviation. The area of the plot between two different points in the normal distribution plot represents the probability of the value occurring between those two points.\n",
        "\n",
        "Please generate the nromal distribution for the following cases suing Python:\n",
        "\n",
        "(1) IQ scores (the mean is typically 100, SD = 15)\n",
        "\n",
        "(2) Marks of students in a class (mean = 60, SD = 20)\n",
        "\n",
        "(3) Measure of weight (mean = 80 kg, SD = 10)\n",
        "\n",
        "(4) Measure of blood pressure (mean = 120/80, SD = 20)\n",
        "\n",
        "(5) Measure of wealth (measurement in money; mean = $50,000 , SD = $100)"
      ]
    },
    {
      "cell_type": "code",
      "execution_count": null,
      "metadata": {
        "id": "dvezbSzvv-WS"
      },
      "outputs": [],
      "source": [
        "%matplotlib inline\n",
        "import math\n",
        "import matplotlib.pyplot as plt\n",
        "import numpy as np\n",
        "import scipy.stats"
      ]
    },
    {
      "cell_type": "code",
      "source": [
        "mean = 100\n",
        "sd = 15\n",
        "x = np.linspace(mean - 3*sd, mean + 3*sd, 200)\n",
        "plt.plot(x, scipy.stats.norm.pdf(x, mean, sd))\n",
        "plt.title(\"IQ scores\")\n",
        "plt.xlabel(\"IQ score\")\n",
        "plt.show()"
      ],
      "metadata": {
        "colab": {
          "base_uri": "https://localhost:8080/",
          "height": 295
        },
        "id": "jIH0pbA8wJRk",
        "outputId": "d27d1e79-eb78-4272-93e3-dc12d2594125"
      },
      "execution_count": null,
      "outputs": [
        {
          "output_type": "display_data",
          "data": {
            "text/plain": [
              "<Figure size 432x288 with 1 Axes>"
            ],
            "image/png": "[encoded data removed]"
          },
          "metadata": {
            "needs_background": "light"
          }
        }
      ]
    },
    {
      "cell_type": "code",
      "source": [
        "mean = 60\n",
        "sd = 20\n",
        "x = np.linspace(mean - 3*sd, mean + 3*sd, 200)\n",
        "plt.plot(x, scipy.stats.norm.pdf(x, mean, sd))\n",
        "plt.title(\"Marks of students in a class\")\n",
        "plt.xlabel(\"Marks\")\n",
        "plt.show()"
      ],
      "metadata": {
        "colab": {
          "base_uri": "https://localhost:8080/",
          "height": 295
        },
        "id": "7p3gTwz_z9iP",
        "outputId": "e74fbe21-2f5e-4c1c-c42f-9b747d7e911f"
      },
      "execution_count": null,
      "outputs": [
        {
          "output_type": "display_data",
          "data": {
            "text/plain": [
              "<Figure size 432x288 with 1 Axes>"
            ],
            "image/png": "[encoded data removed]"
          },
          "metadata": {
            "needs_background": "light"
          }
        }
      ]
    },
    {
      "cell_type": "code",
      "source": [
        "mean = 80\n",
        "sd = 10\n",
        "x = np.linspace(mean - 3*sd, mean + 3*sd, 300)\n",
        "plt.plot(x, scipy.stats.norm.pdf(x, mean, sd))\n",
        "plt.title(\"Measure of weight\")\n",
        "plt.xlabel(\"Weight\")\n",
        "plt.show()"
      ],
      "metadata": {
        "colab": {
          "base_uri": "https://localhost:8080/",
          "height": 295
        },
        "id": "3oyNrVNp0Odo",
        "outputId": "382c02bc-8065-4cf3-aa54-021a0ead3108"
      },
      "execution_count": null,
      "outputs": [
        {
          "output_type": "display_data",
          "data": {
            "text/plain": [
              "<Figure size 432x288 with 1 Axes>"
            ],
            "image/png": "[encoded data removed]"
          },
          "metadata": {
            "needs_background": "light"
          }
        }
      ]
    },
    {
      "cell_type": "code",
      "source": [
        "mean = 120/80\n",
        "sd = 20\n",
        "x = np.linspace(mean - 3*sd, mean + 3*sd, 300)\n",
        "plt.plot(x, scipy.stats.norm.pdf(x, mean, sd))\n",
        "plt.title(\"Measure of blood pressure\")\n",
        "plt.xlabel(\"Blood Pressure\")\n",
        "plt.show()"
      ],
      "metadata": {
        "colab": {
          "base_uri": "https://localhost:8080/",
          "height": 295
        },
        "id": "SgS0F0CT1BuK",
        "outputId": "dd610acc-fe88-467b-cfa8-e455de838861"
      },
      "execution_count": null,
      "outputs": [
        {
          "output_type": "display_data",
          "data": {
            "text/plain": [
              "<Figure size 432x288 with 1 Axes>"
            ],
            "image/png": "[encoded data removed]"
          },
          "metadata": {
            "needs_background": "light"
          }
        }
      ]
    },
    {
      "cell_type": "code",
      "source": [
        "mean = 50000\n",
        "sd = 100\n",
        "x = np.linspace(mean - 3*sd, mean + 3*sd, 500)\n",
        "plt.plot(x, scipy.stats.norm.pdf(x, mean, sd))\n",
        "plt.title(\"Measure of wealth\")\n",
        "plt.xlabel(\"Wealth\")\n",
        "plt.show()"
      ],
      "metadata": {
        "colab": {
          "base_uri": "https://localhost:8080/",
          "height": 295
        },
        "id": "yfw7bKfQ1RsT",
        "outputId": "1064fb84-4dd4-42c1-9ac1-8da267ebbe91"
      },
      "execution_count": null,
      "outputs": [
        {
          "output_type": "display_data",
          "data": {
            "text/plain": [
              "<Figure size 432x288 with 1 Axes>"
            ],
            "image/png": "[encoded data removed]"
          },
          "metadata": {
            "needs_background": "light"
          }
        }
      ]
    }
  ],
  "metadata": {
    "kernelspec": {
      "display_name": "Python 3",
      "language": "python",
      "name": "python3"
    },
    "language_info": {
      "codemirror_mode": {
        "name": "ipython",
        "version": 3
      },
      "file_extension": ".py",
      "mimetype": "text/x-python",
      "name": "python",
      "nbconvert_exporter": "python",
      "pygments_lexer": "ipython3",
      "version": "3.8.5"
    },
    "colab": {
      "name": "lab_assignment_10.ipynb",
      "provenance": [],
      "collapsed_sections": [],
      "include_colab_link": true
    }
  },
  "nbformat": 4,
  "nbformat_minor": 0
}