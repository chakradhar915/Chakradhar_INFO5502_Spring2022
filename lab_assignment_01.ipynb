{
  "cells": [
    {
      "cell_type": "markdown",
      "metadata": {
        "id": "view-in-github",
        "colab_type": "text"
      },
      "source": [
        "<a href=\"https://colab.research.google.com/github/chakradhar915/Chakradhar_INFO5502_Spring2022/blob/main/lab_assignment_01.ipynb\" target=\"_parent\"><img src=\"https://colab.research.google.com/assets/colab-badge.svg\" alt=\"Open In Colab\"/></a>"
      ]
    },
    {
      "cell_type": "markdown",
      "metadata": {
        "id": "DymRJbxDBCnf"
      },
      "source": [
        "# **The first Lab-assignment (01/25/2022, 50 points in total)**"
      ]
    },
    {
      "cell_type": "markdown",
      "metadata": {
        "id": "jJDe71iLB616"
      },
      "source": [
        "(1) Write a Python program to count the number of characters in a string. (5 points)\n",
        "\n",
        "Sample String : 'google.com', \n",
        "\n",
        "Expected Result : {'o': 3, 'g': 2, '.': 1, 'e': 1, 'l': 1, 'm': 1, 'c': 1}"
      ]
    },
    {
      "cell_type": "code",
      "execution_count": 8,
      "metadata": {
        "id": "MtKskTzbCLaU",
        "colab": {
          "base_uri": "https://localhost:8080/"
        },
        "outputId": "900e721e-d849-4bdd-ca14-8c07a93c326c"
      },
      "outputs": [
        {
          "output_type": "stream",
          "name": "stdout",
          "text": [
            "Enter any string to get the count of each letter\n",
            "google.com\n",
            "{'o': 3, 'g': 2, 'l': 1, 'e': 1, '.': 1, 'c': 1, 'm': 1}\n"
          ]
        }
      ],
      "source": [
        "import operator\n",
        "def countStringChar(st):\n",
        "    count_dict = {}\n",
        "    #iterating with each letter in string\n",
        "    for letter in st: \n",
        "#this statement is checking whether the letter is already present in dictionary or not because it is waste of time to run the count if letter already present in Dictionary\n",
        "        if(letter not in count_dict): \n",
        "#count method works in such a way that once it get the input it will check the whole string with that letter for ex:- In sample string there are three 'o's, if above 'if' statement is not there the code will run to check 'o' for three times.\n",
        "            count_dict[letter] = st.count(letter) \n",
        "    return count_dict\n",
        "\n",
        "input_string = input(\"Enter any string to get the count of each letter\\n\")\n",
        "output_dict = countStringChar(input_string)     #calling the function\n",
        "print(dict(sorted(output_dict.items(),key=operator.itemgetter(1), reverse = True))) #printing the Dictionary with the count of each letter from input stirng\n"
      ]
    },
    {
      "cell_type": "markdown",
      "metadata": {
        "id": "55W9AMdXCSpV"
      },
      "source": [
        "(2) Write a Python program to sum all the items in a list. (5 points)"
      ]
    },
    {
      "cell_type": "code",
      "execution_count": 9,
      "metadata": {
        "id": "I57NXsauCec2",
        "colab": {
          "base_uri": "https://localhost:8080/"
        },
        "outputId": "28331670-ab09-4048-ccc2-0250a3c4002c"
      },
      "outputs": [
        {
          "output_type": "stream",
          "name": "stdout",
          "text": [
            "enter range of list5\n",
            "enter the list values one by one\n",
            "1\n",
            "2\n",
            "3\n",
            "4\n",
            "5\n",
            "15\n"
          ]
        }
      ],
      "source": [
        "def readList(n):\n",
        "    lst = []\n",
        "    print(\"enter the list values one by one\")\n",
        "    for  i in range(n):\n",
        "        value = int(input())\n",
        "        #adding the value to the list\n",
        "        lst.append(value)\n",
        "    return lst\n",
        "    \n",
        "def addListValues(lst):\n",
        "    new_value = 0\n",
        "    for value in lst:\n",
        "      #adding the numbers in the list\n",
        "        new_value = new_value+value\n",
        "    return new_value\n",
        "\n",
        "n = int(input(\"enter range of list\"))\n",
        "#reading List from the users\n",
        "lst = readList(n)\n",
        "#calling the addListValue method to get value of sum of list\n",
        "print(addListValues(lst))"
      ]
    },
    {
      "cell_type": "markdown",
      "metadata": {
        "id": "4ulBZ6yhCi9F"
      },
      "source": [
        "(3) Write a Python program to get a string from a given string where all occurrences of its first char have been changed to '\\$', except the first char itself. (5 points)\n",
        "\n",
        "Sample String : 'restart', \n",
        "\n",
        "Expected Result : 'resta\\$t'"
      ]
    },
    {
      "cell_type": "code",
      "execution_count": 4,
      "metadata": {
        "id": "Fj0XhwbBCw2o",
        "colab": {
          "base_uri": "https://localhost:8080/"
        },
        "outputId": "71b70588-19a3-45ad-d687-e082199baaf4"
      },
      "outputs": [
        {
          "output_type": "stream",
          "name": "stdout",
          "text": [
            "Enter Stringchakriccccc\n",
            "chakri$$$$$\n"
          ]
        }
      ],
      "source": [
        "def checkCondition(stri,lent):\n",
        "  #assigning the first char of string\n",
        "    first_char = stri[0]\n",
        "    #changing the string to list\n",
        "    list1 = list(stri)\n",
        "    #iterating from 1st position to size of string\n",
        "    for i in range(1,lent):\n",
        "      #checking the any other char in string is equal to first char of string\n",
        "        if(list1[i] == first_char):\n",
        "          #changing the that particular char to \"$\"  \n",
        "            list1[i] = \"$\"\n",
        "    #joining the list so that it makes a string\n",
        "    stri = \"\".join(list1)\n",
        "    return stri    \n",
        "        \n",
        "input_str = input(\"Enter String\")\n",
        "#checking length of the list\n",
        "str_len = len(input_str)\n",
        "#calling the function to replace the first char  to '$', except the first char\n",
        "print(checkCondition(input_str,str_len))"
      ]
    },
    {
      "cell_type": "markdown",
      "metadata": {
        "id": "_bIP7s1MCzue"
      },
      "source": [
        "(4) Write a program with python which could accept two parameter a and b to calculate and output the result of S, where \n",
        "\n",
        "$\\ S=3.14*(1+a/b)^3$ (5 points)\n",
        "\n"
      ]
    },
    {
      "cell_type": "code",
      "execution_count": 11,
      "metadata": {
        "id": "w79QilHXD3Mg",
        "colab": {
          "base_uri": "https://localhost:8080/"
        },
        "outputId": "b3c15263-d324-4d42-9ea0-2e9da205fb10"
      },
      "outputs": [
        {
          "output_type": "stream",
          "name": "stdout",
          "text": [
            "Enter a value\n",
            "6\n",
            "Enter b value\n",
            "2\n",
            "200.96\n"
          ]
        }
      ],
      "source": [
        "def calFormula(a,b):\n",
        "    cal = 3.14*(1+a/b)*(1+a/b)*(1+a/b)\n",
        "    return cal\n",
        " \n",
        "#Getting input from the users of a and b values\n",
        "a,b = int(input(\"Enter a value\\n\")),int(input(\"Enter b value\\n\"))\n",
        "#calling the function to check the formula\n",
        "print(calFormula(a,b))"
      ]
    },
    {
      "cell_type": "markdown",
      "metadata": {
        "id": "xCa2bK9aD4Q3"
      },
      "source": [
        "(5) Write a Python program to concatenate following dictionaries to create a new one. (5 points)\n",
        "\n",
        "Sample Dictionary : dic1={1:10, 2:20}, dic2={3:30, 4:40}, dic3={5:50,6:60}, \n",
        "\n",
        "Expected Result : {1: 10, 2: 20, 3: 30, 4: 40, 5: 50, 6: 60}\n"
      ]
    },
    {
      "cell_type": "code",
      "execution_count": null,
      "metadata": {
        "id": "_z4aLqAbEET1",
        "colab": {
          "base_uri": "https://localhost:8080/"
        },
        "outputId": "67c57683-2892-4cbd-df29-b1101eca3cdf"
      },
      "outputs": [
        {
          "output_type": "stream",
          "name": "stdout",
          "text": [
            "{1: 10, 2: 20, 3: 30, 4: 40, 5: 50, 6: 60}\n"
          ]
        }
      ],
      "source": [
        "dic1={1:10, 2:20}\n",
        "dic2={3:30, 4:40}\n",
        "dic3={5:50,6:60}\n",
        "\n",
        "#Below statement where ** operator expands the dictionary and concat and store the new dictionary to concat_dic\n",
        "concat_dic = {**dic1,**dic2,**dic3}\n",
        "print(concat_dic)"
      ]
    },
    {
      "cell_type": "markdown",
      "metadata": {
        "id": "0v48Vqa7FrQh"
      },
      "source": [
        "(6) Write a Python program to check whether an element exists within a tuple. (5 points)"
      ]
    },
    {
      "cell_type": "code",
      "execution_count": 12,
      "metadata": {
        "id": "7WEmgq-DF2P1",
        "colab": {
          "base_uri": "https://localhost:8080/"
        },
        "outputId": "8ad59da0-45f1-4582-a425-04f10c0cd2d9"
      },
      "outputs": [
        {
          "output_type": "stream",
          "name": "stdout",
          "text": [
            "Enter values split by ','chakri,1,2,3,chandu\n",
            "Enter search value:- chandu\n",
            "chandu is present in Tuple\n"
          ]
        }
      ],
      "source": [
        "def searchTuple(tu):\n",
        "    search = input(\"Enter search value:- \")\n",
        "    for i in tu:\n",
        "      #Checking the tuple by using if condition\n",
        "        if(i == search):\n",
        "            print(search, \"is present in Tuple\")\n",
        "            return # returning the function once we find the search element in tuple\n",
        "    print(search, \"is not present in Tuple\")\n",
        "items = input(\"Enter values split by ','\")\n",
        "list = items.split(\",\")\n",
        "#Changing List to tuple\n",
        "tu = tuple(list)\n",
        "searchTuple(tu)"
      ]
    },
    {
      "cell_type": "markdown",
      "metadata": {
        "id": "vD5PYLMuGga_"
      },
      "source": [
        "(7) Write a Python program to find maximum and the minimum value in a set. (5 points)"
      ]
    },
    {
      "cell_type": "code",
      "execution_count": 13,
      "metadata": {
        "id": "t0D5kdJUGjjw",
        "colab": {
          "base_uri": "https://localhost:8080/"
        },
        "outputId": "85153244-6b61-47b7-88f2-36d76ad58549"
      },
      "outputs": [
        {
          "output_type": "stream",
          "name": "stdout",
          "text": [
            "Enter set values split by ','1,2,3,4,4,5,5,6,6,8,8,9,9,9,9\n",
            "{'4', '1', '2', '3', '9', '6', '5', '8'}\n",
            "Maximum value in set 9\n",
            "Minimun value in set 1\n"
          ]
        }
      ],
      "source": [
        "raw_data = input(\"Enter set values split by ','\")\n",
        "#spliting the above raw_input with sperated with ,\n",
        "testList = raw_data.split(\",\")\n",
        "main_set = set(testList)\n",
        "print(main_set)\n",
        "print(\"Maximum value in set\",max(main_set))\n",
        "print(\"Minimun value in set\",min(main_set))"
      ]
    },
    {
      "cell_type": "code",
      "execution_count": 7,
      "metadata": {
        "id": "3iGbmcOBhTwy",
        "colab": {
          "base_uri": "https://localhost:8080/"
        },
        "outputId": "07c38844-81d2-4006-ee2e-65c7060a070a"
      },
      "outputs": [
        {
          "output_type": "stream",
          "name": "stdout",
          "text": [
            "These are the group lenths:-  [5, 5, 4, 4, 4, 4, 4]\n",
            "['sm1640', 'aos0040', 'nm0618', 'dr0609', 'jl1252']\n",
            "['nv0234', 'kg0569', 'vb0218', 'sk1458', 'ja0964']\n",
            "['ak0956', 'vm0377', 'ds0814', 'ak0934']\n",
            "['sg1297', 'sk1386', 'kg0470', 'sa1198']\n",
            "['sb1357', 'hy0232', 'sm1907', 'ms1500']\n",
            "['bg0320', 'sc1229', 'sk1390', 'pr0353']\n",
            "['gn0108', 'av0659', 'fh0141', 'sk1313']\n"
          ]
        }
      ],
      "source": [
        "import random\n",
        "#dymnamically getting the groups length by adding left over students to another groups whcih had 4 mem \n",
        "#For example of we have 9 students whcihc we can make atleast 4mem then we will be having \n",
        "#2 groups and one student is left over so i am adding the left over to starting group \n",
        "def getGroupLen(left_mem,total_groups):\n",
        "    empty_list = []\n",
        "    for i in range(total_groups):\n",
        "        if(left_mem>0):\n",
        "            empty_list.append(4+1)\n",
        "            left_mem= left_mem-1\n",
        "        else:\n",
        "            empty_list.append(4)\n",
        "    return empty_list\n",
        "    \n",
        "def addingMemToGroups(lis,group_len_list):\n",
        "    for i in group_len_list:\n",
        "        #below we are spliting the list with respect to length of the group\n",
        "        groups_with_mem = random.sample(lis,i)\n",
        "        print(groups_with_mem)\n",
        "        #Below we are removing the mem from main list so that they are agian used by \n",
        "        for j in groups_with_mem:\n",
        "            lis.remove(j)\n",
        "\n",
        "\n",
        "lis = ['ja0964','sa1198','sb1357','vb0218','sc1229','kg0569','kg0470','sg1297','bg0320','fh0141','jl1252','sk1386', 'ak0956','sk1390','sk1458','sk1313','ak0934','vm0377','nm0618','sm1640','sm1907','gn0108','pr0353','dr0609','ms1500','aos0040','ds0814', 'av0659','nv0234','hy0232']\n",
        "leng = len(lis)\n",
        "#chechking how any mem are left over if we form 4 mem in a group\n",
        "total_groups = int(leng/4)\n",
        "#how many groups with 4 mem as atleast in group\n",
        "left_mem = leng%4\n",
        "group_len_list = getGroupLen(left_mem,total_groups)\n",
        "print(\"These are the group lenths:- \", group_len_list)\n",
        "#caliing the fuction to divide students randomly\n",
        "addingMemToGroups(lis,group_len_list)\n"
      ]
    },
    {
      "cell_type": "markdown",
      "metadata": {
        "id": "wOmnjDPeucVg"
      },
      "source": [
        "(9) Write a Python program to find the duplicate elements in a given array of integers. Return -1 If there are no such elements. (5 points)"
      ]
    },
    {
      "cell_type": "code",
      "execution_count": null,
      "metadata": {
        "id": "U7jrop2UucVh",
        "colab": {
          "base_uri": "https://localhost:8080/"
        },
        "outputId": "01ed0605-5d64-48d8-d2ea-c667596dab27"
      },
      "outputs": [
        {
          "output_type": "stream",
          "name": "stdout",
          "text": [
            "Enter numbers seperated with ','1,2,3,4,5,6,6,7,8,8,9,9,9\n",
            "These are the duplicate elements in array {'9', '8', '6'}\n"
          ]
        }
      ],
      "source": [
        "import numpy as np\n",
        "flag = 0\n",
        "raw_data = input(\"Enter numbers seperated with ','\")\n",
        "#Above taken user input we are spliting wtih , as list \n",
        "raw_list = raw_data.split(\",\")\n",
        "#now we are changing the list to array \n",
        "main_array = np.asarray(raw_list)\n",
        "#checking the length of the array\n",
        "len_of_arr = len(main_array)\n",
        "list=[]\n",
        "#iterating two loops by taking one element and checking it with same array in next loop and where i is not equal to j so we are checking the same location of array\n",
        "for i in range(len_of_arr):\n",
        "    for j in range(len_of_arr):\n",
        "        if(main_array[i] == main_array[j] and i!=j):\n",
        "            list.append(main_array[j])\n",
        "            flag = 1\n",
        "if(flag == 0):\n",
        "    print(\"-1\")\n",
        "else:\n",
        "    print(\"These are the duplicate elements in array\", set(list))"
      ]
    },
    {
      "cell_type": "markdown",
      "metadata": {
        "id": "Q4zy8YaXucVh"
      },
      "source": [
        "(10) Write a Python program to select all the Sundays of a specified year. (5 extra points)"
      ]
    },
    {
      "cell_type": "code",
      "execution_count": 3,
      "metadata": {
        "id": "0ZljNIFFucVi",
        "colab": {
          "base_uri": "https://localhost:8080/"
        },
        "outputId": "c22db270-8885-4536-f08e-7e95221f8cd2"
      },
      "outputs": [
        {
          "output_type": "stream",
          "name": "stdout",
          "text": [
            "Enter year :- 2022\n",
            "['01/02/22', '01/09/22', '01/16/22', '01/23/22', '01/30/22', '02/06/22', '02/13/22', '02/20/22', '02/27/22', '03/06/22', '03/13/22', '03/20/22', '03/27/22', '04/03/22', '04/10/22', '04/17/22', '04/24/22', '05/01/22', '05/08/22', '05/15/22', '05/22/22', '05/29/22', '06/05/22', '06/12/22', '06/19/22', '06/26/22', '07/03/22', '07/10/22', '07/17/22', '07/24/22', '07/31/22', '08/07/22', '08/14/22', '08/21/22', '08/28/22', '09/04/22', '09/11/22', '09/18/22', '09/25/22', '10/02/22', '10/09/22', '10/16/22', '10/23/22', '10/30/22', '11/06/22', '11/13/22', '11/20/22', '11/27/22', '12/04/22', '12/11/22', '12/18/22', '12/25/22', '01/01/23']\n"
          ]
        }
      ],
      "source": [
        "import pandas as ps\n",
        "n = int(input(\"Enter year :- \"))\n",
        "#in pandas date range function gives the all sundays if we set freq to 'W-SUN' whichc is the sunday in the week\n",
        "all_sundays = ps.date_range(start= str(n), end = str(n+1), freq = 'W-SUN').strftime('%D')\n",
        "print(list(all_sundays))"
      ]
    },
    {
      "cell_type": "code",
      "source": [
        ""
      ],
      "metadata": {
        "id": "3RroNWyOBjRJ"
      },
      "execution_count": null,
      "outputs": []
    }
  ],
  "metadata": {
    "colab": {
      "collapsed_sections": [],
      "name": "lab_assignment_01.ipynb",
      "provenance": [],
      "include_colab_link": true
    },
    "kernelspec": {
      "display_name": "Python 3",
      "language": "python",
      "name": "python3"
    },
    "language_info": {
      "codemirror_mode": {
        "name": "ipython",
        "version": 3
      },
      "file_extension": ".py",
      "mimetype": "text/x-python",
      "name": "python",
      "nbconvert_exporter": "python",
      "pygments_lexer": "ipython3",
      "version": "3.8.5"
    }
  },
  "nbformat": 4,
  "nbformat_minor": 0
}